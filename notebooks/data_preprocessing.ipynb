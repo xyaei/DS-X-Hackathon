{
 "cells": [
  {
   "cell_type": "markdown",
   "id": "b59ad813",
   "metadata": {},
   "source": [
    "# Data Preprocessing\n",
    "This is the first notebook used to clean and export a dataset into a JSON file.  "
   ]
  },
  {
   "cell_type": "markdown",
   "id": "edda19d7",
   "metadata": {},
   "source": [
    "# Clean Data"
   ]
  },
  {
   "cell_type": "code",
   "execution_count": 4,
   "id": "b6e117e7",
   "metadata": {},
   "outputs": [
    {
     "data": {
      "text/html": [
       "<div>\n",
       "<style scoped>\n",
       "    .dataframe tbody tr th:only-of-type {\n",
       "        vertical-align: middle;\n",
       "    }\n",
       "\n",
       "    .dataframe tbody tr th {\n",
       "        vertical-align: top;\n",
       "    }\n",
       "\n",
       "    .dataframe thead th {\n",
       "        text-align: right;\n",
       "    }\n",
       "</style>\n",
       "<table border=\"1\" class=\"dataframe\">\n",
       "  <thead>\n",
       "    <tr style=\"text-align: right;\">\n",
       "      <th></th>\n",
       "      <th>skills</th>\n",
       "      <th>skills_required</th>\n",
       "      <th>start_dates</th>\n",
       "      <th>end_dates</th>\n",
       "      <th>positions</th>\n",
       "      <th>certification_skills</th>\n",
       "    </tr>\n",
       "  </thead>\n",
       "  <tbody>\n",
       "    <tr>\n",
       "      <th>0</th>\n",
       "      <td>['Big Data', 'Hadoop', 'Hive', 'Python', 'Mapr...</td>\n",
       "      <td>NaN</td>\n",
       "      <td>['Nov 2019']</td>\n",
       "      <td>['Till Date']</td>\n",
       "      <td>['Big Data Analyst']</td>\n",
       "      <td>NaN</td>\n",
       "    </tr>\n",
       "    <tr>\n",
       "      <th>1</th>\n",
       "      <td>['Data Analysis', 'Data Analytics', 'Business ...</td>\n",
       "      <td>NaN</td>\n",
       "      <td>['Sep 2019']</td>\n",
       "      <td>['Till Date']</td>\n",
       "      <td>['Business Analyst']</td>\n",
       "      <td>NaN</td>\n",
       "    </tr>\n",
       "    <tr>\n",
       "      <th>2</th>\n",
       "      <td>['Software Development', 'Machine Learning', '...</td>\n",
       "      <td>Brand Promotion\\nCampaign Management\\nField Su...</td>\n",
       "      <td>['June 2018']</td>\n",
       "      <td>['Till Date']</td>\n",
       "      <td>['Software Developer (Machine Learning Enginee...</td>\n",
       "      <td>NaN</td>\n",
       "    </tr>\n",
       "    <tr>\n",
       "      <th>3</th>\n",
       "      <td>['accounts payables', 'accounts receivables', ...</td>\n",
       "      <td>Fast typing skill\\nIELTSInternet browsing &amp; on...</td>\n",
       "      <td>['January 2011', 'January 2008', 'January 2006...</td>\n",
       "      <td>['November 2015', 'January 2010', 'January 200...</td>\n",
       "      <td>['Accountant', 'Accounts Receivable Clerk', 'M...</td>\n",
       "      <td>NaN</td>\n",
       "    </tr>\n",
       "    <tr>\n",
       "      <th>4</th>\n",
       "      <td>['Analytical reasoning', 'Compliance testing k...</td>\n",
       "      <td>iOS\\niOS App Developer\\niOS Application Develo...</td>\n",
       "      <td>['January 2016', 'January 2016', 'January 2012...</td>\n",
       "      <td>['Current', 'January 2016', 'January 2015', 'J...</td>\n",
       "      <td>['Staff Accountant', 'Senior Accountant', 'Tax...</td>\n",
       "      <td>[None]</td>\n",
       "    </tr>\n",
       "  </tbody>\n",
       "</table>\n",
       "</div>"
      ],
      "text/plain": [
       "                                              skills  \\\n",
       "0  ['Big Data', 'Hadoop', 'Hive', 'Python', 'Mapr...   \n",
       "1  ['Data Analysis', 'Data Analytics', 'Business ...   \n",
       "2  ['Software Development', 'Machine Learning', '...   \n",
       "3  ['accounts payables', 'accounts receivables', ...   \n",
       "4  ['Analytical reasoning', 'Compliance testing k...   \n",
       "\n",
       "                                     skills_required  \\\n",
       "0                                                NaN   \n",
       "1                                                NaN   \n",
       "2  Brand Promotion\\nCampaign Management\\nField Su...   \n",
       "3  Fast typing skill\\nIELTSInternet browsing & on...   \n",
       "4  iOS\\niOS App Developer\\niOS Application Develo...   \n",
       "\n",
       "                                         start_dates  \\\n",
       "0                                       ['Nov 2019']   \n",
       "1                                       ['Sep 2019']   \n",
       "2                                      ['June 2018']   \n",
       "3  ['January 2011', 'January 2008', 'January 2006...   \n",
       "4  ['January 2016', 'January 2016', 'January 2012...   \n",
       "\n",
       "                                           end_dates  \\\n",
       "0                                      ['Till Date']   \n",
       "1                                      ['Till Date']   \n",
       "2                                      ['Till Date']   \n",
       "3  ['November 2015', 'January 2010', 'January 200...   \n",
       "4  ['Current', 'January 2016', 'January 2015', 'J...   \n",
       "\n",
       "                                           positions certification_skills  \n",
       "0                               ['Big Data Analyst']                  NaN  \n",
       "1                               ['Business Analyst']                  NaN  \n",
       "2  ['Software Developer (Machine Learning Enginee...                  NaN  \n",
       "3  ['Accountant', 'Accounts Receivable Clerk', 'M...                  NaN  \n",
       "4  ['Staff Accountant', 'Senior Accountant', 'Tax...               [None]  "
      ]
     },
     "execution_count": 4,
     "metadata": {},
     "output_type": "execute_result"
    }
   ],
   "source": [
    "import pandas as pd\n",
    "import json\n",
    "import difflib\n",
    "from collections import defaultdict\n",
    "\n",
    "df = pd.read_csv(\"resume_data.csv\")\n",
    "\n",
    "\n",
    "useful_cols = [\n",
    "    \"skills\",\n",
    "    \"skills_required\", \n",
    "    \"start_dates\",\n",
    "    \"end_dates\",\n",
    "    \"positions\", \n",
    "    \"certification_skills\"\n",
    "]\n",
    "\n",
    "df_useful = df[useful_cols]\n",
    "df_useful = df[useful_cols].copy()\n",
    "df_useful.head()"
   ]
  },
  {
   "cell_type": "code",
   "execution_count": 25,
   "id": "9801a606",
   "metadata": {},
   "outputs": [],
   "source": [
    "# for second DF : \n",
    "import pandas as pd\n",
    "import json\n",
    "import difflib\n",
    "from collections import defaultdict\n",
    "\n",
    "df = pd.read_csv(\"merged_jobs.csv\")\n",
    "df.rename(columns={\n",
    "    \"title\": \"positions\",\n",
    "    \"start_date\": \"start_dates\",\n",
    "    \"end_date\": \"end_dates\"\n",
    "}, inplace=True)\n",
    "df.drop(columns=[\"person_id\"], inplace=True)\n",
    "df.head()\n",
    "\n",
    "df_useful = df"
   ]
  },
  {
   "cell_type": "code",
   "execution_count": 26,
   "id": "07bdd9b0",
   "metadata": {},
   "outputs": [],
   "source": [
    "import ast\n",
    "\n",
    "def ensure_list(x):\n",
    "    if pd.isna(x):\n",
    "        return []\n",
    "    if isinstance(x, list):\n",
    "        return x\n",
    "    try:\n",
    "        return ast.literal_eval(str(x))\n",
    "    except:\n",
    "        return [str(x)]\n",
    "\n",
    "for col in [\"start_dates\", \"end_dates\", \"positions\"]:\n",
    "    df_useful[col] = df_useful[col].apply(ensure_list)\n"
   ]
  },
  {
   "cell_type": "code",
   "execution_count": 27,
   "id": "37f8b65a",
   "metadata": {},
   "outputs": [
    {
     "ename": "TypeError",
     "evalue": "object of type 'int' has no len()",
     "output_type": "error",
     "traceback": [
      "\u001b[31m---------------------------------------------------------------------------\u001b[39m",
      "\u001b[31mTypeError\u001b[39m                                 Traceback (most recent call last)",
      "\u001b[36mCell\u001b[39m\u001b[36m \u001b[39m\u001b[32mIn[27]\u001b[39m\u001b[32m, line 25\u001b[39m\n\u001b[32m     22\u001b[39m skills = row[\u001b[33m\"\u001b[39m\u001b[33mskills\u001b[39m\u001b[33m\"\u001b[39m]\n\u001b[32m     24\u001b[39m \u001b[38;5;28;01mfor\u001b[39;00m i, position \u001b[38;5;129;01min\u001b[39;00m \u001b[38;5;28menumerate\u001b[39m(positions):\n\u001b[32m---> \u001b[39m\u001b[32m25\u001b[39m     start = starts[i] \u001b[38;5;28;01mif\u001b[39;00m i < \u001b[38;5;28;43mlen\u001b[39;49m\u001b[43m(\u001b[49m\u001b[43mstarts\u001b[49m\u001b[43m)\u001b[49m \u001b[38;5;28;01melse\u001b[39;00m \u001b[38;5;28;01mNone\u001b[39;00m\n\u001b[32m     26\u001b[39m     end = ends[i] \u001b[38;5;28;01mif\u001b[39;00m i < \u001b[38;5;28mlen\u001b[39m(ends) \u001b[38;5;28;01melse\u001b[39;00m \u001b[38;5;28;01mNone\u001b[39;00m\n\u001b[32m     28\u001b[39m     rows.append({\n\u001b[32m     29\u001b[39m         \u001b[33m\"\u001b[39m\u001b[33mposition\u001b[39m\u001b[33m\"\u001b[39m: position,\n\u001b[32m     30\u001b[39m         \u001b[33m\"\u001b[39m\u001b[33mstart_year\u001b[39m\u001b[33m\"\u001b[39m: extract_year(start),\n\u001b[32m     31\u001b[39m         \u001b[33m\"\u001b[39m\u001b[33mend_year\u001b[39m\u001b[33m\"\u001b[39m: extract_year(end),\n\u001b[32m     32\u001b[39m         \u001b[33m\"\u001b[39m\u001b[33mskills\u001b[39m\u001b[33m\"\u001b[39m: skills\n\u001b[32m     33\u001b[39m     })\n",
      "\u001b[31mTypeError\u001b[39m: object of type 'int' has no len()"
     ]
    }
   ],
   "source": [
    "import re\n",
    "from datetime import datetime\n",
    "\n",
    "current_year = datetime.now().year\n",
    "\n",
    "def extract_year(text):\n",
    "    if not text:\n",
    "        return None\n",
    "    text = str(text)\n",
    "    text = re.sub(r'(?i)present', str(current_year), text)\n",
    "    match = re.search(r\"(19|20)\\d{2}\", text)\n",
    "    if match:\n",
    "        return int(match.group(0))\n",
    "    return None\n",
    "\n",
    "rows = []\n",
    "\n",
    "for _, row in df_useful.iterrows():\n",
    "    positions = row[\"positions\"]\n",
    "    starts = row[\"start_dates\"]\n",
    "    ends = row[\"end_dates\"]\n",
    "    skills = row[\"skills\"]\n",
    "\n",
    "    for i, position in enumerate(positions):\n",
    "        start = starts[i] if i < len(starts) else None\n",
    "        end = ends[i] if i < len(ends) else None\n",
    "\n",
    "        rows.append({\n",
    "            \"position\": position,\n",
    "            \"start_year\": extract_year(start),\n",
    "            \"end_year\": extract_year(end),\n",
    "            \"skills\": skills\n",
    "        })\n",
    "\n",
    "df_useful_expanded = pd.DataFrame(rows)\n",
    "\n",
    "\n",
    "# Convert the whole column to nullable integer\n",
    "df_useful_expanded[\"start_year\"] = df_useful_expanded[\"start_year\"].astype(\"Int64\")\n",
    "df_useful_expanded[\"end_year\"] = df_useful_expanded[\"end_year\"].astype(\"Int64\")\n",
    "df_useful_expanded.head()\n"
   ]
  },
  {
   "cell_type": "code",
   "execution_count": 17,
   "id": "0f6eece6",
   "metadata": {},
   "outputs": [],
   "source": [
    "df_useful_expanded = df_useful_expanded.dropna(subset=[\"skills\"])"
   ]
  },
  {
   "cell_type": "markdown",
   "id": "e9f0681a",
   "metadata": {},
   "source": [
    "# Creating JSON"
   ]
  },
  {
   "cell_type": "code",
   "execution_count": 18,
   "id": "40f3349e",
   "metadata": {},
   "outputs": [],
   "source": [
    "import json\n",
    "\n",
    "# Group by start_year\n",
    "year_groups = df_useful_expanded.groupby(\"start_year\")\n",
    "\n",
    "json_data = []\n",
    "\n",
    "for year, group in year_groups:\n",
    "    positions_list = []\n",
    "    for _, row in group.iterrows():\n",
    "        positions_list.append({\n",
    "            \"position\": row[\"position\"],\n",
    "            \"skills\": row[\"skills\"]\n",
    "        })\n",
    "    json_data.append({\n",
    "        \"year\": int(year),\n",
    "        \"positions\": positions_list\n",
    "    })\n",
    "\n",
    "# Optional: sort by year\n",
    "json_data = sorted(json_data, key=lambda x: x[\"year\"])\n"
   ]
  },
  {
   "cell_type": "code",
   "execution_count": null,
   "id": "ca01d61d",
   "metadata": {},
   "outputs": [],
   "source": [
    "with open(\"career_by_year.json\", \"w\") as f:\n",
    "    json.dump(json_data, f, indent=4)\n"
   ]
  },
  {
   "cell_type": "code",
   "execution_count": 29,
   "id": "e2f91205",
   "metadata": {},
   "outputs": [],
   "source": [
    "df_useful_expanded.to_csv(\"cleaned_jobs1.csv\", index=False)"
   ]
  },
  {
   "cell_type": "code",
   "execution_count": null,
   "id": "d0f1eaed",
   "metadata": {},
   "outputs": [],
   "source": []
  }
 ],
 "metadata": {
  "kernelspec": {
   "display_name": "Python 3",
   "language": "python",
   "name": "python3"
  },
  "language_info": {
   "codemirror_mode": {
    "name": "ipython",
    "version": 3
   },
   "file_extension": ".py",
   "mimetype": "text/x-python",
   "name": "python",
   "nbconvert_exporter": "python",
   "pygments_lexer": "ipython3",
   "version": "3.12.7"
  }
 },
 "nbformat": 4,
 "nbformat_minor": 5
}
