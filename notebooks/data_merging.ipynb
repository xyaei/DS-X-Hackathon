{
 "cells": [
  {
   "cell_type": "markdown",
   "id": "e4233456",
   "metadata": {},
   "source": [
    "# Merging Columns from Separate Datasets"
   ]
  },
  {
   "cell_type": "code",
   "execution_count": 1,
   "id": "eccfb7a8",
   "metadata": {},
   "outputs": [],
   "source": [
    "import pandas as pd\n",
    "df1 = pd.read_csv(\"./dataset/04_experience.csv\")\n",
    "df2 = pd.read_csv(\"./dataset/05_person_skills.csv\")\n",
    "\n",
    "\n",
    "merged_df = pd.merge(df1, df2, on=\"person_id\", how=\"outer\")\n"
   ]
  },
  {
   "cell_type": "code",
   "execution_count": 2,
   "id": "11e1912b",
   "metadata": {},
   "outputs": [
    {
     "data": {
      "text/html": [
       "<div>\n",
       "<style scoped>\n",
       "    .dataframe tbody tr th:only-of-type {\n",
       "        vertical-align: middle;\n",
       "    }\n",
       "\n",
       "    .dataframe tbody tr th {\n",
       "        vertical-align: top;\n",
       "    }\n",
       "\n",
       "    .dataframe thead th {\n",
       "        text-align: right;\n",
       "    }\n",
       "</style>\n",
       "<table border=\"1\" class=\"dataframe\">\n",
       "  <thead>\n",
       "    <tr style=\"text-align: right;\">\n",
       "      <th></th>\n",
       "      <th>person_id</th>\n",
       "      <th>title</th>\n",
       "      <th>start_date</th>\n",
       "      <th>end_date</th>\n",
       "      <th>skill</th>\n",
       "    </tr>\n",
       "  </thead>\n",
       "  <tbody>\n",
       "    <tr>\n",
       "      <th>0</th>\n",
       "      <td>1</td>\n",
       "      <td>Database Administrator</td>\n",
       "      <td>04/2017</td>\n",
       "      <td>Present</td>\n",
       "      <td>Database administration</td>\n",
       "    </tr>\n",
       "    <tr>\n",
       "      <th>1</th>\n",
       "      <td>1</td>\n",
       "      <td>Database Administrator</td>\n",
       "      <td>04/2017</td>\n",
       "      <td>Present</td>\n",
       "      <td>Database</td>\n",
       "    </tr>\n",
       "    <tr>\n",
       "      <th>2</th>\n",
       "      <td>1</td>\n",
       "      <td>Database Administrator</td>\n",
       "      <td>04/2017</td>\n",
       "      <td>Present</td>\n",
       "      <td>Ms sql server</td>\n",
       "    </tr>\n",
       "    <tr>\n",
       "      <th>3</th>\n",
       "      <td>1</td>\n",
       "      <td>Database Administrator</td>\n",
       "      <td>04/2017</td>\n",
       "      <td>Present</td>\n",
       "      <td>Ms sql server 2005</td>\n",
       "    </tr>\n",
       "    <tr>\n",
       "      <th>4</th>\n",
       "      <td>1</td>\n",
       "      <td>Database Administrator</td>\n",
       "      <td>04/2017</td>\n",
       "      <td>Present</td>\n",
       "      <td>Sql server</td>\n",
       "    </tr>\n",
       "  </tbody>\n",
       "</table>\n",
       "</div>"
      ],
      "text/plain": [
       "   person_id                   title start_date end_date  \\\n",
       "0          1  Database Administrator    04/2017  Present   \n",
       "1          1  Database Administrator    04/2017  Present   \n",
       "2          1  Database Administrator    04/2017  Present   \n",
       "3          1  Database Administrator    04/2017  Present   \n",
       "4          1  Database Administrator    04/2017  Present   \n",
       "\n",
       "                     skill  \n",
       "0  Database administration  \n",
       "1                 Database  \n",
       "2            Ms sql server  \n",
       "3       Ms sql server 2005  \n",
       "4               Sql server  "
      ]
     },
     "execution_count": 2,
     "metadata": {},
     "output_type": "execute_result"
    }
   ],
   "source": [
    "merged_df.drop(columns=[\"location\", \"firm\"], inplace=True)\n",
    "merged_df.head()"
   ]
  },
  {
   "cell_type": "code",
   "execution_count": 6,
   "id": "42b5f06a",
   "metadata": {},
   "outputs": [],
   "source": [
    "# If any skill is a string, convert it to a list\n",
    "merged_df[\"skills\"] = merged_df[\"skill\"].apply(lambda x: x if isinstance(x, list) else [x])\n"
   ]
  },
  {
   "cell_type": "code",
   "execution_count": 7,
   "id": "6e9ea38c",
   "metadata": {},
   "outputs": [],
   "source": [
    "group_cols = [\"person_id\", \"title\", \"start_date\", \"end_date\"]\n",
    "df_jobs = merged_df.groupby(group_cols)[\"skills\"].agg(lambda lists: [skill for sublist in lists for skill in sublist]).reset_index()\n"
   ]
  },
  {
   "cell_type": "code",
   "execution_count": 8,
   "id": "7f91c22f",
   "metadata": {},
   "outputs": [
    {
     "data": {
      "text/html": [
       "<div>\n",
       "<style scoped>\n",
       "    .dataframe tbody tr th:only-of-type {\n",
       "        vertical-align: middle;\n",
       "    }\n",
       "\n",
       "    .dataframe tbody tr th {\n",
       "        vertical-align: top;\n",
       "    }\n",
       "\n",
       "    .dataframe thead th {\n",
       "        text-align: right;\n",
       "    }\n",
       "</style>\n",
       "<table border=\"1\" class=\"dataframe\">\n",
       "  <thead>\n",
       "    <tr style=\"text-align: right;\">\n",
       "      <th></th>\n",
       "      <th>person_id</th>\n",
       "      <th>title</th>\n",
       "      <th>start_date</th>\n",
       "      <th>end_date</th>\n",
       "      <th>skills</th>\n",
       "    </tr>\n",
       "  </thead>\n",
       "  <tbody>\n",
       "    <tr>\n",
       "      <th>0</th>\n",
       "      <td>1</td>\n",
       "      <td>Database Administrator</td>\n",
       "      <td>01/2014</td>\n",
       "      <td>02/2017</td>\n",
       "      <td>[Database administration, Database, Ms sql ser...</td>\n",
       "    </tr>\n",
       "    <tr>\n",
       "      <th>1</th>\n",
       "      <td>1</td>\n",
       "      <td>Database Administrator</td>\n",
       "      <td>04/2017</td>\n",
       "      <td>Present</td>\n",
       "      <td>[Database administration, Database, Ms sql ser...</td>\n",
       "    </tr>\n",
       "    <tr>\n",
       "      <th>2</th>\n",
       "      <td>2</td>\n",
       "      <td>Database Administrator</td>\n",
       "      <td>12/2008</td>\n",
       "      <td>08/2011</td>\n",
       "      <td>[sql server management studio, visual studio, ...</td>\n",
       "    </tr>\n",
       "    <tr>\n",
       "      <th>3</th>\n",
       "      <td>3</td>\n",
       "      <td>Oracle Database Administrator</td>\n",
       "      <td>06/2014</td>\n",
       "      <td>06/2016</td>\n",
       "      <td>[DATABASES, ORACLE (4 years), ORACLE 10G, SQL,...</td>\n",
       "    </tr>\n",
       "    <tr>\n",
       "      <th>4</th>\n",
       "      <td>3</td>\n",
       "      <td>Oracle Database Administrator</td>\n",
       "      <td>06/2016</td>\n",
       "      <td>Present</td>\n",
       "      <td>[DATABASES, ORACLE (4 years), ORACLE 10G, SQL,...</td>\n",
       "    </tr>\n",
       "  </tbody>\n",
       "</table>\n",
       "</div>"
      ],
      "text/plain": [
       "   person_id                          title start_date end_date  \\\n",
       "0          1         Database Administrator    01/2014  02/2017   \n",
       "1          1         Database Administrator    04/2017  Present   \n",
       "2          2         Database Administrator    12/2008  08/2011   \n",
       "3          3  Oracle Database Administrator    06/2014  06/2016   \n",
       "4          3  Oracle Database Administrator    06/2016  Present   \n",
       "\n",
       "                                              skills  \n",
       "0  [Database administration, Database, Ms sql ser...  \n",
       "1  [Database administration, Database, Ms sql ser...  \n",
       "2  [sql server management studio, visual studio, ...  \n",
       "3  [DATABASES, ORACLE (4 years), ORACLE 10G, SQL,...  \n",
       "4  [DATABASES, ORACLE (4 years), ORACLE 10G, SQL,...  "
      ]
     },
     "execution_count": 8,
     "metadata": {},
     "output_type": "execute_result"
    }
   ],
   "source": [
    "df_jobs.head()\n"
   ]
  },
  {
   "cell_type": "code",
   "execution_count": 9,
   "id": "d2a45fcf",
   "metadata": {},
   "outputs": [],
   "source": [
    "df_jobs.to_csv(\"merged_jobs.csv\", index=False)"
   ]
  }
 ],
 "metadata": {
  "kernelspec": {
   "display_name": "Python 3",
   "language": "python",
   "name": "python3"
  },
  "language_info": {
   "codemirror_mode": {
    "name": "ipython",
    "version": 3
   },
   "file_extension": ".py",
   "mimetype": "text/x-python",
   "name": "python",
   "nbconvert_exporter": "python",
   "pygments_lexer": "ipython3",
   "version": "3.12.7"
  }
 },
 "nbformat": 4,
 "nbformat_minor": 5
}
